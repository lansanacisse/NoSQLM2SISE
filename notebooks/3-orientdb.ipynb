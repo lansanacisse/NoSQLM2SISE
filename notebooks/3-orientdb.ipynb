{
 "cells": [
  {
   "cell_type": "markdown",
   "metadata": {},
   "source": [
    "# OrientDB tutorial"
   ]
  },
  {
   "cell_type": "markdown",
   "metadata": {},
   "source": [
    "## Prerequisites"
   ]
  },
  {
   "cell_type": "markdown",
   "metadata": {},
   "source": [
    "### Documentation\n",
    "\n",
    "You will find all documentation for :\n",
    "* [OrientDB SQL reference](http://www.orientdb.com/docs/last/SQL-Functions.html)\n",
    "* [Orientdb python client](http://orientdb.com/docs/last/PyOrient-Client.html#working-with-the-client)"
   ]
  },
  {
   "cell_type": "markdown",
   "metadata": {},
   "source": [
    "## Import libraries"
   ]
  },
  {
   "cell_type": "code",
   "execution_count": 2,
   "metadata": {},
   "outputs": [],
   "source": [
    "import pyorient"
   ]
  },
  {
   "cell_type": "code",
   "execution_count": 3,
   "metadata": {},
   "outputs": [],
   "source": [
    "ROOT_PASSWORD = \"root\"\n",
    "client = pyorient.OrientDB(\"localhost\", 2424)\n",
    "session_id = client.connect(\"root\", ROOT_PASSWORD)"
   ]
  },
  {
   "cell_type": "code",
   "execution_count": 4,
   "metadata": {},
   "outputs": [
    {
     "name": "stdout",
     "output_type": "stream",
     "text": [
      "{{'databases': {'d': 'plocal:/orientdb/databases/d', 'gods': 'memory:gods'}}}\n"
     ]
    }
   ],
   "source": [
    "print(client.db_list())"
   ]
  },
  {
   "cell_type": "markdown",
   "metadata": {},
   "source": [
    "## I. Quick start"
   ]
  },
  {
   "cell_type": "markdown",
   "metadata": {},
   "source": [
    "### Creating the database"
   ]
  },
  {
   "cell_type": "markdown",
   "metadata": {},
   "source": [
    "**Q:** Create a database `gods` as a `GRAPH_DATABASE` in `MEMORY_STORAGE_TYPE`. \n",
    "\n",
    "We will use it to store relationships between Greek deities."
   ]
  },
  {
   "cell_type": "code",
   "execution_count": null,
   "metadata": {},
   "outputs": [],
   "source": [
    "# create a database\n",
    "client.db_create(\"gods\", pyorient.DB_TYPE_GRAPH, pyorient.STORAGE_TYPE_MEMORY)"
   ]
  },
  {
   "cell_type": "markdown",
   "metadata": {},
   "source": [
    "**Q:** Connect your pyorient client to the `gods` database."
   ]
  },
  {
   "cell_type": "code",
   "execution_count": 6,
   "metadata": {},
   "outputs": [
    {
     "data": {
      "text/plain": [
       "[<pyorient.otypes.OrientCluster at 0x1c989958358>,\n",
       " <pyorient.otypes.OrientCluster at 0x1c98a0229b0>,\n",
       " <pyorient.otypes.OrientCluster at 0x1c98a022a58>,\n",
       " <pyorient.otypes.OrientCluster at 0x1c98a022ac8>,\n",
       " <pyorient.otypes.OrientCluster at 0x1c98a022b00>,\n",
       " <pyorient.otypes.OrientCluster at 0x1c98a022b70>,\n",
       " <pyorient.otypes.OrientCluster at 0x1c98a022b38>,\n",
       " <pyorient.otypes.OrientCluster at 0x1c98a022ba8>,\n",
       " <pyorient.otypes.OrientCluster at 0x1c98a022c18>,\n",
       " <pyorient.otypes.OrientCluster at 0x1c98a022a20>,\n",
       " <pyorient.otypes.OrientCluster at 0x1c98a022be0>,\n",
       " <pyorient.otypes.OrientCluster at 0x1c98a022c50>,\n",
       " <pyorient.otypes.OrientCluster at 0x1c98a022c88>,\n",
       " <pyorient.otypes.OrientCluster at 0x1c98a022cc0>,\n",
       " <pyorient.otypes.OrientCluster at 0x1c98a022cf8>,\n",
       " <pyorient.otypes.OrientCluster at 0x1c989958a20>,\n",
       " <pyorient.otypes.OrientCluster at 0x1c98a0080b8>,\n",
       " <pyorient.otypes.OrientCluster at 0x1c98a022d30>,\n",
       " <pyorient.otypes.OrientCluster at 0x1c98a022d68>,\n",
       " <pyorient.otypes.OrientCluster at 0x1c98a022da0>,\n",
       " <pyorient.otypes.OrientCluster at 0x1c98a022dd8>,\n",
       " <pyorient.otypes.OrientCluster at 0x1c98a022e10>,\n",
       " <pyorient.otypes.OrientCluster at 0x1c98a022e48>,\n",
       " <pyorient.otypes.OrientCluster at 0x1c98a022e80>,\n",
       " <pyorient.otypes.OrientCluster at 0x1c98a022eb8>,\n",
       " <pyorient.otypes.OrientCluster at 0x1c98a022ef0>,\n",
       " <pyorient.otypes.OrientCluster at 0x1c98a022f28>,\n",
       " <pyorient.otypes.OrientCluster at 0x1c98a022f60>,\n",
       " <pyorient.otypes.OrientCluster at 0x1c98a022f98>,\n",
       " <pyorient.otypes.OrientCluster at 0x1c98a022fd0>,\n",
       " <pyorient.otypes.OrientCluster at 0x1c98a04c048>,\n",
       " <pyorient.otypes.OrientCluster at 0x1c98a04c080>,\n",
       " <pyorient.otypes.OrientCluster at 0x1c98a04c0b8>,\n",
       " <pyorient.otypes.OrientCluster at 0x1c98a04c0f0>]"
      ]
     },
     "execution_count": 6,
     "metadata": {},
     "output_type": "execute_result"
    }
   ],
   "source": [
    "# connect to the database\n",
    "client.db_open(\"gods\", \"root\", ROOT_PASSWORD)"
   ]
  },
  {
   "cell_type": "markdown",
   "metadata": {},
   "source": [
    "**Q:** You should now be able to launch OrientDB queries through the Python client with the [command()](http://orientdb.com/docs/last/PyOrient-Client-Command.html) function. \n",
    "\n",
    "You should think of OrientDB as a Graph-Document database for the following questions. Each vertex and edge will contain information on it inside a JSON document.\n",
    "\n",
    "Create a new Vertex with content `{name: 'Zeus', symbol: 'thunder'}`. The [CREATE VERTEX : Create a vertex using JSON content](http://orientdb.com/docs/last/SQL-Create-Vertex.html) doc page should help you."
   ]
  },
  {
   "cell_type": "code",
   "execution_count": 11,
   "metadata": {},
   "outputs": [
    {
     "data": {
      "text/plain": [
       "[<pyorient.otypes.OrientRecord at 0x1c98a0646d8>]"
      ]
     },
     "execution_count": 11,
     "metadata": {},
     "output_type": "execute_result"
    }
   ],
   "source": [
    "# create a new vertex\n",
    "client.command(\"insert into V set name = 'Zeus', symbol = 'thunder'\")"
   ]
  },
  {
   "cell_type": "markdown",
   "metadata": {},
   "source": [
    "You have created a VERTEX in the previous question. The VERTEX is a [class](https://orientdb.com/docs/last/Tutorial-Classes.html) of OrientDB which defines a record that can be linked to others through EDGE instances.\n",
    "\n",
    "You can find all VERTEX created in the database with a SQL command on the `V` table, like `SELECT * FROM V`. \n",
    "\n",
    "**Q:** Print all current vertices in `gods`, it should only have `Zeus` though for now."
   ]
  },
  {
   "cell_type": "code",
   "execution_count": 20,
   "metadata": {},
   "outputs": [
    {
     "name": "stdout",
     "output_type": "stream",
     "text": [
      "{'name': 'Zeus', 'symbol': 'thunder'}\n",
      "{'name': 'Héra', 'symbol': 'tiara'}\n",
      "{'name': 'Poséidon', 'symbol': 'trident'}\n",
      "{'name': 'Athena', 'symbol': 'helmet'}\n",
      "{'name': 'Arès', 'symbol': 'weapons'}\n"
     ]
    }
   ],
   "source": [
    "# Print all vertices in Gods\n",
    "all_goods = client.query(\"select from V\")\n",
    "for god in all_goods:\n",
    "    print(god.oRecordData)"
   ]
  },
  {
   "cell_type": "markdown",
   "metadata": {},
   "source": [
    "**Q:** Create new vertices with content : \n",
    "```\n",
    "{name:Héra, symbol:tiara}\n",
    "{name:Poséidon, symbol:trident}\n",
    "{name:Athena, symbol:helmet}\n",
    "{name:Arès, symbol:weapons} \n",
    "```"
   ]
  },
  {
   "cell_type": "code",
   "execution_count": 15,
   "metadata": {},
   "outputs": [],
   "source": [
    "# Create a new vertex\n",
    "Liste_of_gods = [\n",
    "    {\"name\": \"Héra\", \"symbol\": \"tiara\"},\n",
    "    {\"name\": \"Poséidon\", \"symbol\": \"trident\"},\n",
    "    {\"name\": \"Athena\", \"symbol\": \"helmet\"},\n",
    "    {\"name\": \"Arès\", \"symbol\": \"weapons\"}\n",
    "]\n",
    "\n",
    "for god in Liste_of_gods:\n",
    "    client.command(\"insert into V set name = '{}', symbol = '{}'\".format(god['name'], god['symbol']))"
   ]
  },
  {
   "cell_type": "markdown",
   "metadata": {},
   "source": [
    "**Q:** Display all vertices with name = `Arès`"
   ]
  },
  {
   "cell_type": "code",
   "execution_count": 19,
   "metadata": {},
   "outputs": [
    {
     "name": "stdout",
     "output_type": "stream",
     "text": [
      "{'name': 'Arès', 'symbol': 'weapons'}\n"
     ]
    }
   ],
   "source": [
    "# all Arès\n",
    "resultat_arès = client.command(\"select * from V where name = 'Arès'\")\n",
    "for e in resultat_arès:\n",
    "    print(e.oRecordData)"
   ]
  },
  {
   "cell_type": "markdown",
   "metadata": {},
   "source": [
    "**Q:** Create an EDGE from `Zeus` to `Poséidon` with the content `{kind: 'sibling'}"
   ]
  },
  {
   "cell_type": "code",
   "execution_count": 25,
   "metadata": {},
   "outputs": [
    {
     "data": {
      "text/plain": [
       "[<pyorient.otypes.OrientRecord at 0x1c98a127208>]"
      ]
     },
     "execution_count": 25,
     "metadata": {},
     "output_type": "execute_result"
    }
   ],
   "source": [
    "# Create a new edge from Zeus to Poséidon with the content kind:'siblings'\n",
    "client.command(\"create edge from (select from V where name = 'Zeus') to (select from V where name = 'Poséidon') set kind = 'sibling'\")\n"
   ]
  },
  {
   "cell_type": "markdown",
   "metadata": {},
   "source": [
    "**Q:** Redisplay all vertices, discuss."
   ]
  },
  {
   "cell_type": "code",
   "execution_count": 26,
   "metadata": {},
   "outputs": [
    {
     "name": "stdout",
     "output_type": "stream",
     "text": [
      "{'out_': <pyorient.otypes.OrientBinaryObject object at 0x000001C98A127908>, 'name': 'Zeus', 'symbol': 'thunder', 'out_Sibling': <pyorient.otypes.OrientBinaryObject object at 0x000001C98A08C3C8>}\n",
      "{'name': 'Héra', 'symbol': 'tiara'}\n",
      "{'in_': <pyorient.otypes.OrientBinaryObject object at 0x000001C98A08C588>, 'name': 'Poséidon', 'symbol': 'trident', 'in_Sibling': <pyorient.otypes.OrientBinaryObject object at 0x000001C98A08C470>}\n",
      "{'name': 'Athena', 'symbol': 'helmet'}\n",
      "{'name': 'Arès', 'symbol': 'weapons'}\n"
     ]
    }
   ],
   "source": [
    "# Redisplay all vertices\n",
    "all_goods = client.command(\"select from V\")\n",
    "for god in all_goods:\n",
    "    print(god.oRecordData)"
   ]
  },
  {
   "cell_type": "markdown",
   "metadata": {},
   "source": [
    "**Q:** Display all edges. They are contained in the class `E`"
   ]
  },
  {
   "cell_type": "code",
   "execution_count": 27,
   "metadata": {},
   "outputs": [
    {
     "name": "stdout",
     "output_type": "stream",
     "text": [
      "{'kind': 'sibling', 'out': <pyorient.otypes.OrientRecordLink object at 0x000001C98A08CB38>, 'in': <pyorient.otypes.OrientRecordLink object at 0x000001C98A08CA58>}\n"
     ]
    }
   ],
   "source": [
    "# Display all edges containt in the class E\n",
    "all_edges = client.command(\"select from E\")\n",
    "for edge in all_edges:\n",
    "    print(edge.oRecordData)"
   ]
  },
  {
   "cell_type": "markdown",
   "metadata": {},
   "source": [
    "Two fields on vertices have appeared, containing the outgoing (out_) and incoming (in_) links.\n",
    "\n",
    "At the edge level, two fields point to the original (out) and destination (in) vertices.\n",
    "\n",
    "**Q:** Lets create some more edges :\n",
    "\n",
    "* Zeus > Héra (sibling)\n",
    "* Zeus > Arès (father)\n",
    "* Zeus > Athena (father)\n",
    "* Héra > Arès (mother)\n",
    "* Héra > Zeus (sibling)\n",
    "* Poséidon > Zeus (sibling)\n",
    "\n",
    "_Hint 1 :_ check [the CREATE EDGE doc page](http://orientdb.com/docs/last/SQL-Create-Edge.html) to find an example for creating edges on vertices using subqueries so you can run queries to fetch the vertices before creating an edge in between.\n",
    "\n",
    "_Hint 2 :_ after you have found the command to create edges between vertices with sub-queries, you should be well-versed enough in Python to create a list of all edges in the question, and loop the command on each element of the list to create all edges in one go =)"
   ]
  },
  {
   "cell_type": "code",
   "execution_count": 28,
   "metadata": {},
   "outputs": [],
   "source": [
    "# list of edges\n",
    "edges = [\n",
    "    {\"from\": \"Zeus\", \"to\": \"Héra\", \"label\": \"sibling\"},\n",
    "    {\"from\": \"Zeus\", \"to\": \"Arès\", \"label\": \"father\"},\n",
    "    {\"from\": \"Zeus\", \"to\": \"Athena\", \"label\": \"father\"},\n",
    "    {\"from\": \"Héra\", \"to\": \"Arès\", \"label\": \"mother\"},\n",
    "    {\"from\": \"Héra\", \"to\": \"Zeus\", \"label\": \"sibling\"},\n",
    "    {\"from\": \"Poséidon\", \"to\": \"Zeus\", \"label\": \"sibling\"}\n",
    "]\n",
    "\n",
    "# Create edges\n",
    "for edge in edges:\n",
    "    from_vertex = edge[\"from\"]\n",
    "    to_vertex = edge[\"to\"]\n",
    "    label = edge[\"label\"]\n",
    "    query = \"\"\"\n",
    "    CREATE EDGE {} FROM (SELECT FROM V WHERE name = '{}') TO (SELECT FROM V WHERE name = '{}')\n",
    "    \"\"\".format(label, from_vertex, to_vertex)\n",
    "    client.command(query)"
   ]
  },
  {
   "cell_type": "markdown",
   "metadata": {},
   "source": [
    "### Looking for data"
   ]
  },
  {
   "cell_type": "markdown",
   "metadata": {},
   "source": [
    "**Q:** Using [out()](http://orientdb.com/docs/last/Tutorial-Working-with-graphs.html#querying-graphs) function, display all vertices connected and outgoing from Zeus.\n",
    "\n",
    "You should use the EXPAND() special function to transform the vertex collection in the result-set by expanding it, making the results more readable."
   ]
  },
  {
   "cell_type": "code",
   "execution_count": 30,
   "metadata": {},
   "outputs": [
    {
     "name": "stdout",
     "output_type": "stream",
     "text": [
      "{'name': 'Arès', 'symbol': 'weapons', 'in_father': <pyorient.otypes.OrientBinaryObject object at 0x000001C98A0B0908>, 'in_mother': <pyorient.otypes.OrientBinaryObject object at 0x000001C98A0B0F60>}\n",
      "{'name': 'Athena', 'symbol': 'helmet', 'in_father': <pyorient.otypes.OrientBinaryObject object at 0x000001C98A0B0EF0>}\n",
      "{'name': 'Héra', 'symbol': 'tiara', 'in_Sibling': <pyorient.otypes.OrientBinaryObject object at 0x000001C98A0B06A0>, 'out_mother': <pyorient.otypes.OrientBinaryObject object at 0x000001C98A0B0208>, 'out_Sibling': <pyorient.otypes.OrientBinaryObject object at 0x000001C98A0B0978>}\n",
      "{'in_': <pyorient.otypes.OrientBinaryObject object at 0x000001C98A0B0AC8>, 'name': 'Poséidon', 'symbol': 'trident', 'in_Sibling': <pyorient.otypes.OrientBinaryObject object at 0x000001C98A0B08D0>, 'out_Sibling': <pyorient.otypes.OrientBinaryObject object at 0x000001C98A0B0390>}\n"
     ]
    }
   ],
   "source": [
    "# all vertices connected from Zeus\n",
    "query = \"\"\"\n",
    "SELECT expand(out()) FROM V WHERE name = 'Zeus'\n",
    "\"\"\"\n",
    "\n",
    "for vertex in client.command(query):\n",
    "    print(vertex.oRecordData)"
   ]
  },
  {
   "cell_type": "markdown",
   "metadata": {},
   "source": [
    "**Q:** Display all vertices which got a father (the vertices which are the destination of an arc whose kind attribute is father).\n",
    "\n",
    "_Hint: You can notice that we use the field `in` the arc, and not the function `in()` which applies to vertices._"
   ]
  },
  {
   "cell_type": "code",
   "execution_count": 32,
   "metadata": {},
   "outputs": [
    {
     "name": "stdout",
     "output_type": "stream",
     "text": [
      "{'in_father': <pyorient.otypes.OrientBinaryObject object at 0x000001C98A0B0400>, 'name': 'Athena', 'symbol': 'helmet'}\n",
      "{'in_father': <pyorient.otypes.OrientBinaryObject object at 0x000001C98A013748>, 'name': 'Arès', 'symbol': 'weapons', 'in_mother': <pyorient.otypes.OrientBinaryObject object at 0x000001C98A127630>}\n"
     ]
    }
   ],
   "source": [
    "# Requête pour afficher tous les sommets qui ont un père\n",
    "query = \"SELECT FROM V WHERE in('father').size() > 0\"\n",
    "result = client.command(query)\n",
    "\n",
    "# Afficher les résultats\n",
    "for vertex in result:\n",
    "    print(vertex.oRecordData)"
   ]
  },
  {
   "cell_type": "markdown",
   "metadata": {},
   "source": [
    "**Q:** As in SQL, the operator `in` used in a clause `where` allows to restrict the possible values with an embedded query _(where ... in (select ...))_. \n",
    "\n",
    "Display the mothers, by displaying the vertices where an outgoing arc is part of the arcs where kind is a mother."
   ]
  },
  {
   "cell_type": "code",
   "execution_count": 34,
   "metadata": {},
   "outputs": [],
   "source": [
    "# Requête pour afficher tous les sommets qui ont un arc sortant de type 'mother'\n",
    "query = \"SELECT FROM V WHERE @rid IN (SELECT out FROM E WHERE label = 'mother')\"\n",
    "result = client.command(query)\n",
    "\n",
    "# Afficher les résultats\n",
    "for vertex in result:\n",
    "    print(vertex)"
   ]
  },
  {
   "cell_type": "markdown",
   "metadata": {},
   "source": [
    "**Q:** Display the brothers and sisters of Zeus (the destination summits of an arc whose kind is sibling and whose original summit is Zeus)."
   ]
  },
  {
   "cell_type": "code",
   "execution_count": 35,
   "metadata": {},
   "outputs": [],
   "source": [
    "# Requête pour afficher les frères et sœurs de Zeus\n",
    "query = \"\"\"\n",
    "SELECT FROM V WHERE @rid IN (\n",
    "    SELECT in FROM E WHERE label = 'sibling' AND out = (SELECT @rid FROM V WHERE name = 'Zeus')\n",
    ")\n",
    "\"\"\"\n",
    "result = client.command(query)\n",
    "\n",
    "# Afficher les résultats\n",
    "for vertex in result:\n",
    "    print(vertex)"
   ]
  },
  {
   "cell_type": "markdown",
   "metadata": {},
   "source": [
    "## Modeling a Product Recommendation System"
   ]
  },
  {
   "cell_type": "markdown",
   "metadata": {},
   "source": [
    "You are currently modeling the data of a product recommendation system with OrientDB.\n",
    "\n",
    "The main purpose of such a system is to answer the question \"which products were purchased by their people who purchased product X? »\n",
    "\n",
    "Purchased products have only one name field. They are purchased by people who have a nickname.\n",
    "\n",
    "When a person buys a product, the date of purchase is stored. \n",
    "\n",
    "Instead of working with \"anonymous\" vertices and arcs, you will use classes. The `create class` command allows you to create custom classes.\n",
    "\n",
    "The vertex classes must extend V, the arc classes must extend E."
   ]
  },
  {
   "cell_type": "markdown",
   "metadata": {},
   "source": [
    "**Q:** Create an `eCommerce` database, and the necessary classes to model the system.\n",
    "\n",
    "PS : you can view all classes in the database with :\n",
    "\n",
    "```python\n",
    "for name in client.command(\"SELECT name FROM (SELECT expand(classes) FROM metadata:schema)\"):\n",
    "    print(name)\n",
    "```"
   ]
  },
  {
   "cell_type": "code",
   "execution_count": 36,
   "metadata": {},
   "outputs": [],
   "source": [
    "# create an eCommerce database\n",
    "client.db_create(\"eCommerce\", pyorient.DB_TYPE_GRAPH, pyorient.STORAGE_TYPE_MEMORY)"
   ]
  },
  {
   "cell_type": "code",
   "execution_count": 44,
   "metadata": {},
   "outputs": [
    {
     "name": "stdout",
     "output_type": "stream",
     "text": [
      "{{'name': 'OTriggered'},'version':0,'rid':'#-2:0'}\n",
      "{{'name': 'V'},'version':0,'rid':'#-2:1'}\n",
      "{{'name': 'ORestricted'},'version':0,'rid':'#-2:2'}\n",
      "{{'name': 'E'},'version':0,'rid':'#-2:3'}\n",
      "{{'name': 'OUser'},'version':0,'rid':'#-2:4'}\n",
      "{{'name': 'OIdentity'},'version':0,'rid':'#-2:5'}\n",
      "{{'name': 'Personnes'},'version':0,'rid':'#-2:6'}\n",
      "{{'name': 'Products'},'version':0,'rid':'#-2:7'}\n",
      "{{'name': 'OFunction'},'version':0,'rid':'#-2:8'}\n",
      "{{'name': 'OSequence'},'version':0,'rid':'#-2:9'}\n",
      "{{'name': 'ORole'},'version':0,'rid':'#-2:10'}\n",
      "{{'name': 'OSchedule'},'version':0,'rid':'#-2:11'}\n"
     ]
    }
   ],
   "source": [
    "# all classes in the database eCommerce\n",
    "for name in client.command(\"SELECT name FROM (SELECT expand(classes) FROM metadata:schema)\"):\n",
    "    print(name)"
   ]
  },
  {
   "cell_type": "code",
   "execution_count": 43,
   "metadata": {},
   "outputs": [
    {
     "data": {
      "text/plain": [
       "[12]"
      ]
     },
     "execution_count": 43,
     "metadata": {},
     "output_type": "execute_result"
    }
   ],
   "source": [
    "# create a new class products\n",
    "client.command(\"CREATE CLASS Personnes extends V\")\n",
    "client.command(\"CREATE CLASS Products extends V\")"
   ]
  },
  {
   "cell_type": "markdown",
   "metadata": {},
   "source": [
    "**Q:** Create the following products: `spaghetti`, `bolognese sauce`, `cheese`, `apple`."
   ]
  },
  {
   "cell_type": "code",
   "execution_count": null,
   "metadata": {},
   "outputs": [],
   "source": [
    "# create the following products\n",
    "products = [\n",
    "    {\"name\": \"spaghetti\"},\n",
    "    {\"name\": \"bolognese\",},\n",
    "    {\"name\": \"sauce\"},\n",
    "    {\"name\": \"cheese\"},\n",
    "    {\"name\": \"apple\"},\n",
    "]\n",
    "\n"
   ]
  },
  {
   "cell_type": "markdown",
   "metadata": {},
   "source": [
    "**Q:** Create the following people: `peter`, `meredith`."
   ]
  },
  {
   "cell_type": "code",
   "execution_count": null,
   "metadata": {},
   "outputs": [],
   "source": []
  },
  {
   "cell_type": "markdown",
   "metadata": {},
   "source": [
    "**Q:** Create the following purchases: \n",
    "- peter > spaghetti + cheese on 20/01/2016 \n",
    "- meredith > cheese + apple + bolognese sauce on 22/01/2016\n",
    "- peter > spaghetti + bolognese sauce on 27/01/2016\n"
   ]
  },
  {
   "cell_type": "code",
   "execution_count": null,
   "metadata": {},
   "outputs": [],
   "source": []
  },
  {
   "cell_type": "markdown",
   "metadata": {},
   "source": [
    "**Q:** Who bought Bolognese sauce?"
   ]
  },
  {
   "cell_type": "code",
   "execution_count": null,
   "metadata": {},
   "outputs": [],
   "source": []
  },
  {
   "cell_type": "markdown",
   "metadata": {},
   "source": [
    "**Q:** It is possible to link the `out` and `in` navigation functions. What products are purchased with Bolognese sauce? "
   ]
  },
  {
   "cell_type": "code",
   "execution_count": null,
   "metadata": {},
   "outputs": [],
   "source": []
  },
  {
   "cell_type": "markdown",
   "metadata": {},
   "source": [
    "## Postquisites"
   ]
  },
  {
   "cell_type": "markdown",
   "metadata": {},
   "source": [
    "Since we create databases in memory, they get destroyed on server shutdown."
   ]
  }
 ],
 "metadata": {
  "kernelspec": {
   "display_name": "nosql",
   "language": "python",
   "name": "python3"
  },
  "language_info": {
   "codemirror_mode": {
    "name": "ipython",
    "version": 3
   },
   "file_extension": ".py",
   "mimetype": "text/x-python",
   "name": "python",
   "nbconvert_exporter": "python",
   "pygments_lexer": "ipython3",
   "version": "3.7.1"
  }
 },
 "nbformat": 4,
 "nbformat_minor": 2
}
